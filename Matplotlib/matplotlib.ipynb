import matplotlib.pyplot as plt
import numpy as np
import pandas as pd

# 1D array :
# plt.plot(x,y)
x=[0,1,2,3,4,5,6,7,8]
y=[0,2,4,6,8,10,12,14,16]
plt.plot(x,y)

# to give title to the graph and change the font, font-size:
plt.title("Our First Graph", fontdict={"fontname":"Comic Sans MS","fontsize":"20"})

# to give label to x and y axis:
plt.xlabel("X-Axis", fontdict={"fontname":"Arial","fontsize":"12"})
plt.ylabel("Y-Axis", fontdict={"fontname":"Arial","fontsize":"12"})

# to change the ticks:
plt.xticks([0,1,2,3,4,5,6,7,8])
plt.yticks([0,2,4,6,8,10,12,14,16])

# to add a legend:


# to get rid of any annoying extra line before the graph:
plt.show()
